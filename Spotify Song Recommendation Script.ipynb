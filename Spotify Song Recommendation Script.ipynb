{
 "cells": [
  {
   "cell_type": "code",
   "execution_count": null,
   "metadata": {},
   "outputs": [],
   "source": [
    "import spotipy\n",
    "from spotipy.oauth2 import SpotifyOAuth\n",
    "from spotipy.oauth2 import SpotifyClientCredentials\n",
    "import base64\n",
    "import requests\n",
    "import pandas as pd\n",
    "import random"
   ]
  },
  {
   "cell_type": "code",
   "execution_count": null,
   "metadata": {},
   "outputs": [],
   "source": [
    "cid = {APP ID HERE}\n",
    "secret = {APP SECRET ID HERE}\n",
    "\n",
    "client_credentials_manager = SpotifyClientCredentials(client_id=cid, client_secret=secret)\n",
    "sp = spotipy.Spotify(client_credentials_manager\n",
    "=\n",
    "client_credentials_manager)"
   ]
  },
  {
   "cell_type": "code",
   "execution_count": null,
   "metadata": {},
   "outputs": [],
   "source": [
    "# Given band get recommendations\n",
    "\n",
    "band = 'SWARM!'\n",
    "\n",
    "artist_csv = {ARTIST CSV FROM KAGGLE FILEPATH HERE}\n",
    "\n",
    "artists = pd.read_csv(artist_csv, names = ['name','key'])\n",
    "\n",
    "artist_id = artists.set_index('name').loc[band]['key']\n",
    "\n",
    "related = sp.artist_related_artists(artist_id)\n",
    "\n",
    "related_names = []\n",
    "\n",
    "for i in related['artists']:\n",
    "    related_names.append(i['name'])\n",
    "    \n",
    "some_names = random.sample(related_names, 5)\n",
    "\n",
    "for a in some_names:\n",
    "    try:\n",
    "        id = artists.set_index('name').loc[a]['key']\n",
    "        top = sp.artist_top_tracks(id)\n",
    "        \n",
    "        tracks = []\n",
    "        for i in top['tracks']:\n",
    "            tracks.append(i['name'])\n",
    "        \n",
    "        song = random.sample(tracks,1)\n",
    "        \n",
    "        print(f'{song} by {a}')\n",
    "    except:\n",
    "        print('no')\n",
    "        pass"
   ]
  }
 ],
 "metadata": {
  "kernelspec": {
   "display_name": "Python 3",
   "language": "python",
   "name": "python3"
  },
  "language_info": {
   "codemirror_mode": {
    "name": "ipython",
    "version": 3
   },
   "file_extension": ".py",
   "mimetype": "text/x-python",
   "name": "python",
   "nbconvert_exporter": "python",
   "pygments_lexer": "ipython3",
   "version": "3.8.3"
  }
 },
 "nbformat": 4,
 "nbformat_minor": 4
}
